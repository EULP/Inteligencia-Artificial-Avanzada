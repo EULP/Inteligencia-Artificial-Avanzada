{
 "cells": [
  {
   "cell_type": "markdown",
   "metadata": {},
   "source": [
    "# <center><i>Analítica de la Web - Práctica Calificada 1</i></center>\n",
    "# <center>Bloque 1"
   ]
  },
  {
   "cell_type": "markdown",
   "metadata": {},
   "source": [
    "Nombre: "
   ]
  },
  {
   "cell_type": "markdown",
   "metadata": {},
   "source": [
    "---"
   ]
  },
  {
   "cell_type": "markdown",
   "metadata": {},
   "source": [
    "<b>Ejercicio 1: [3 puntos]</b>\n",
    "\n",
    "Implementar una función que reciba un número natural N y retorne los N primeros números primos palindrómicos. (https://es.wikipedia.org/wiki/N%C3%BAmero_primo_palindr%C3%B3mico)"
   ]
  },
  {
   "cell_type": "code",
   "execution_count": 1,
   "metadata": {},
   "outputs": [
    {
     "name": "stdin",
     "output_type": "stream",
     "text": [
      "Ingrese numero 131\n"
     ]
    },
    {
     "name": "stdout",
     "output_type": "stream",
     "text": [
      "Si es palindrome\n"
     ]
    }
   ],
   "source": [
    "def Palindromo(num):\n",
    "    if num == num[::-1]: \n",
    "        print(\"Si es palindromo\") \n",
    "    else: \n",
    "        print(\"No es palindromo\") \n",
    "\n",
    "\n",
    "num = input(\"Ingrese numero\") \n",
    "Palindromo(num)\n"
   ]
  },
  {
   "cell_type": "markdown",
   "metadata": {},
   "source": [
    "<b>Ejercicio 2: [3 puntos]</b>\n",
    "\n",
    "Un primo de **Mersenne** (https://es.wikipedia.org/wiki/N%C3%BAmero_primo_de_Mersenne) es un número primo de la forma $2^{p}-1$. Una propiedad conocida de los primos de Mersenne es que $p$ debe ser también un número primo.\n",
    "\n",
    "Implementar una función que reciba un número natural N y guarde en un archivo (**Mersenne.txt**)  los primeros N primos de Mersenne.\n",
    "\n",
    "Por ejemplo, si N = 4, la salida debería ser:\n",
    "<center>\n",
    "3<br>\n",
    "7<br>\n",
    "31<br>\n",
    "127<br>"
   ]
  },
  {
   "cell_type": "code",
   "execution_count": 15,
   "metadata": {},
   "outputs": [
    {
     "name": "stdin",
     "output_type": "stream",
     "text": [
      "Introduce n:  10\n"
     ]
    },
    {
     "ename": "TypeError",
     "evalue": "'int' object is not iterable",
     "output_type": "error",
     "traceback": [
      "\u001b[1;31m---------------------------------------------------------------------------\u001b[0m",
      "\u001b[1;31mTypeError\u001b[0m                                 Traceback (most recent call last)",
      "\u001b[1;32m~\\AppData\\Local\\Temp/ipykernel_1216/1516169347.py\u001b[0m in \u001b[0;36m<module>\u001b[1;34m\u001b[0m\n\u001b[0;32m     22\u001b[0m \u001b[0ml\u001b[0m\u001b[1;33m=\u001b[0m\u001b[1;33m[\u001b[0m\u001b[1;33m]\u001b[0m\u001b[1;33m\u001b[0m\u001b[1;33m\u001b[0m\u001b[0m\n\u001b[0;32m     23\u001b[0m \u001b[0mnumero\u001b[0m\u001b[1;33m=\u001b[0m\u001b[0mint\u001b[0m\u001b[1;33m(\u001b[0m\u001b[0minput\u001b[0m\u001b[1;33m(\u001b[0m\u001b[1;34m'Introduce n: '\u001b[0m\u001b[1;33m)\u001b[0m\u001b[1;33m)\u001b[0m\u001b[1;33m\u001b[0m\u001b[1;33m\u001b[0m\u001b[0m\n\u001b[1;32m---> 24\u001b[1;33m \u001b[1;32mfor\u001b[0m \u001b[0mi\u001b[0m \u001b[1;32min\u001b[0m \u001b[0mnumero\u001b[0m\u001b[1;33m:\u001b[0m\u001b[1;33m\u001b[0m\u001b[1;33m\u001b[0m\u001b[0m\n\u001b[0m\u001b[0;32m     25\u001b[0m     \u001b[1;32mif\u001b[0m\u001b[1;33m(\u001b[0m\u001b[0mes_mamersenne\u001b[0m\u001b[1;33m(\u001b[0m\u001b[0mi\u001b[0m\u001b[1;33m)\u001b[0m\u001b[1;33m==\u001b[0m \u001b[1;32mTrue\u001b[0m\u001b[1;33m)\u001b[0m\u001b[1;33m:\u001b[0m\u001b[1;33m\u001b[0m\u001b[1;33m\u001b[0m\u001b[0m\n\u001b[0;32m     26\u001b[0m         \u001b[0ml\u001b[0m\u001b[1;33m.\u001b[0m\u001b[0mappend\u001b[0m\u001b[1;33m(\u001b[0m\u001b[0mi\u001b[0m\u001b[1;33m)\u001b[0m\u001b[1;33m\u001b[0m\u001b[1;33m\u001b[0m\u001b[0m\n",
      "\u001b[1;31mTypeError\u001b[0m: 'int' object is not iterable"
     ]
    }
   ],
   "source": [
    "#CODE\n",
    "import math\n",
    "\n",
    "def es_mamersenne(num):\n",
    "    primo=True\n",
    "    for i in range(2,numero):\n",
    "        if (numero%i)==0:\n",
    "            primo=False\n",
    "            return False\n",
    "            break\n",
    " \n",
    "    if primo==True:\n",
    "        for i in range(2,numero+1):\n",
    "            potencia=(math.pow(2,i))\n",
    " \n",
    "            if (potencia-1) == numero:\n",
    "                return True\n",
    "                break\n",
    " \n",
    "        else:\n",
    "            return False\n",
    "l=[] \n",
    "numero=int(input('Introduce n: '))\n",
    "for i in numero:\n",
    "    if(es_mamersenne(i)== True):\n",
    "        l.append(i)\n",
    "print(l)\n"
   ]
  },
  {
   "cell_type": "markdown",
   "metadata": {},
   "source": [
    "<b>Ejercicio 3: [3 puntos]</b>\n",
    "\n",
    "Implementar una función que reciba un número entero N y que retorne la suma de los números pares de la secuencia de fibonacci menores iguales a N.\n",
    "\n",
    "Por ejemplo, para N=11, la secuencia de fibonacci sería: 0, 1, 1, 2, 3, 5, 8. Y la suma de los números pares sería: 10.\n",
    "\n",
    "**Importante: Su función debe soportar valores de N mayores e iguales a mil millones** $N \\geq 1000000000$"
   ]
  },
  {
   "cell_type": "code",
   "execution_count": null,
   "metadata": {},
   "outputs": [],
   "source": [
    "def fib(n):\n",
    "    a, b = 0,1\n",
    "    suma= 0\n",
    "    while a < n:\n",
    "        if( a % 2 == 0):\n",
    "            suma = suma + a\n",
    "        print(a, end=' ')\n",
    "        a, b = b, a+b        \n",
    "    print()\n",
    "    print(\"La suma de los pares fibonaccis es \",suma)\n",
    "    \n",
    "fib(10000000000)"
   ]
  }
 ],
 "metadata": {
  "kernelspec": {
   "display_name": "Python 3",
   "language": "python",
   "name": "python3"
  },
  "language_info": {
   "codemirror_mode": {
    "name": "ipython",
    "version": 3
   },
   "file_extension": ".py",
   "mimetype": "text/x-python",
   "name": "python",
   "nbconvert_exporter": "python",
   "pygments_lexer": "ipython3",
   "version": "3.8.5"
  }
 },
 "nbformat": 4,
 "nbformat_minor": 4
}
