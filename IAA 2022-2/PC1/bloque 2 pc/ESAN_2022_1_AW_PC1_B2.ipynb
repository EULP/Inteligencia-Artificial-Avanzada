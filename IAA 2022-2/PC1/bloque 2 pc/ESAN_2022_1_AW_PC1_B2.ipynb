{
 "cells": [
  {
   "cell_type": "markdown",
   "metadata": {},
   "source": [
    "# <center><i>Analítica de la Web - Práctica Calificada 1</i></center>\n",
    "# <center>Bloque 2"
   ]
  },
  {
   "cell_type": "markdown",
   "metadata": {},
   "source": [
    "Nombre: "
   ]
  },
  {
   "cell_type": "markdown",
   "metadata": {},
   "source": [
    "---"
   ]
  },
  {
   "cell_type": "markdown",
   "metadata": {},
   "source": [
    "<b>Ejercicio 4:</b>\n",
    "\n",
    "En este ejercicio implementaremos un método para cifrar(encriptar) archivos textuales, para lo cual debe implementar la función **\"cifrar\"** que reciba como entrada dos parámetros: el nombre de un archivo (in.txt) y una palabra clave (keyword). Luego generar un archivo de salida (out.txt) mediante un proceso de encriptado según la siguiente lógica:\n",
    "\n",
    "* **[2 puntos]** Suponiendo que la keyword es: FEATHER, primero eliminar las letras duplicadas de la keyword (E), en este caso el resultado sería: FEATHR y luego agregar las otras letras del alfabeto (inglés) en orden inverso:"
   ]
  },
  {
   "cell_type": "markdown",
   "metadata": {},
   "source": [
    "<img src='encriptado1.png'>"
   ]
  },
  {
   "cell_type": "code",
   "execution_count": null,
   "metadata": {},
   "outputs": [],
   "source": [
    "#Code"
   ]
  },
  {
   "cell_type": "markdown",
   "metadata": {},
   "source": [
    "* **[2 puntos]** Leer el contenido del archivo (in.txt), realizar un proceso de limpieza básico: quedarse únicamente con caracteres alfabéticos, y pasar todo a mayúsculas."
   ]
  },
  {
   "cell_type": "code",
   "execution_count": null,
   "metadata": {},
   "outputs": [],
   "source": [
    "#Code"
   ]
  },
  {
   "cell_type": "markdown",
   "metadata": {},
   "source": [
    "* **[2 puntos]** Realice el proceso de encriptado (carácter por carácter) de la siguiente forma: (ENTRADA -> SALIDA_ENCRIPTADA) y finalmente genere el archivo out.txt. Los espacios y saltos de línea deben mantenerse en el archivo de salida"
   ]
  },
  {
   "cell_type": "markdown",
   "metadata": {},
   "source": [
    "<img src='encriptado2.png'>"
   ]
  },
  {
   "cell_type": "code",
   "execution_count": null,
   "metadata": {},
   "outputs": [],
   "source": [
    "#CODE"
   ]
  },
  {
   "cell_type": "markdown",
   "metadata": {},
   "source": [
    "* **[2 puntos]** Implementar una función **\"descifrar\"** que reciba el archivo (out.txt), la clave (keyword) y genere el archivo **\"descifrado.txt\"**"
   ]
  },
  {
   "cell_type": "code",
   "execution_count": null,
   "metadata": {},
   "outputs": [],
   "source": [
    "#CODE"
   ]
  },
  {
   "cell_type": "markdown",
   "metadata": {},
   "source": [
    "<b>Ejercicio 5: [3 puntos]</b>\n",
    "\n",
    "**Filtrando datos en archivos web**\n",
    "\n",
    "El archivo (web.txt) es el código fuente de la página: https://www.universidadperu.com/empresas/categorias.php . Empleando las técnicas de limpieza vistas en clase, guardar en un archivo (categorías.txt) la lista de todas las categorías con sus respectivas URL. En el formato:\n",
    "\n",
    "Categoría | URL\n",
    "\n",
    "ACABADO DE PROD. TEXTILES. | https://www.universidadperu.com/empresas/acabado-de-prod-textiles-categoria.php \n",
    "\n",
    "ACONDICIONAMIENTO DE EDIFICIOS. | https://www.universidadperu.com/empresas/acondicionamiento-de-edificios-categoria.php\n",
    "\n",
    "ACTIV. ADMINIST. PUBLICA EN GENERAL | https://www.universidadperu.com/empresas/activ-administ-publica-en-general-categoria.php\n",
    "\n",
    "..."
   ]
  },
  {
   "cell_type": "code",
   "execution_count": null,
   "metadata": {},
   "outputs": [],
   "source": [
    "#CODE"
   ]
  }
 ],
 "metadata": {
  "kernelspec": {
   "display_name": "Python 3",
   "language": "python",
   "name": "python3"
  },
  "language_info": {
   "codemirror_mode": {
    "name": "ipython",
    "version": 3
   },
   "file_extension": ".py",
   "mimetype": "text/x-python",
   "name": "python",
   "nbconvert_exporter": "python",
   "pygments_lexer": "ipython3",
   "version": "3.8.5"
  }
 },
 "nbformat": 4,
 "nbformat_minor": 4
}
